{
 "cells": [
  {
   "cell_type": "markdown",
   "id": "80800a46",
   "metadata": {},
   "source": [
    "# Arrange the data in ascending order"
   ]
  },
  {
   "cell_type": "code",
   "execution_count": null,
   "id": "5a8716db",
   "metadata": {},
   "outputs": [],
   "source": [
    "Calculate Q1 (the first Quarter)"
   ]
  },
  {
   "cell_type": "code",
   "execution_count": null,
   "id": "0fe98e46",
   "metadata": {},
   "outputs": [],
   "source": [
    "Calculate Q3 (the third Quartile)"
   ]
  },
  {
   "cell_type": "code",
   "execution_count": null,
   "id": "f8f2dea5",
   "metadata": {},
   "outputs": [],
   "source": [
    "Calculate IQR = (Q3 - Q1)"
   ]
  },
  {
   "cell_type": "code",
   "execution_count": null,
   "id": "ba7da0c3",
   "metadata": {},
   "outputs": [],
   "source": [
    "Calculate the lower Range Tlower = Q1 -(1.5 * IQR)"
   ]
  },
  {
   "cell_type": "code",
   "execution_count": null,
   "id": "a887af72",
   "metadata": {},
   "outputs": [],
   "source": [
    "Calculate the upper Range Tupper = Q3 + (1.5 * IQR)"
   ]
  },
  {
   "cell_type": "code",
   "execution_count": null,
   "id": "2b15c4f0",
   "metadata": {},
   "outputs": [],
   "source": [
    "Detect outliers with the lower Range and the upper Range. If the data is not in the range [Tlower,Tupper], then the data will be filtered out as outliers."
   ]
  }
 ],
 "metadata": {
  "language_info": {
   "name": "python"
  }
 },
 "nbformat": 4,
 "nbformat_minor": 5
}
