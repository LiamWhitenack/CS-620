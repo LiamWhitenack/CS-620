{
 "cells": [
  {
   "cell_type": "markdown",
   "metadata": {},
   "source": [
    "## Built-in read/write functions"
   ]
  },
  {
   "cell_type": "code",
   "execution_count": 208,
   "metadata": {},
   "outputs": [],
   "source": [
    "# create our text file to read\n",
    "with open('textfile.txt', mode='w') as f:\n",
    "    f.writelines(['This is a text file.\\n', 'Now you can read it!'])"
   ]
  },
  {
   "cell_type": "code",
   "execution_count": 209,
   "metadata": {},
   "outputs": [
    {
     "data": {
      "text/plain": [
       "['This is a text file.\\n', 'Now you can read it!']"
      ]
     },
     "execution_count": 209,
     "metadata": {},
     "output_type": "execute_result"
    }
   ],
   "source": [
    "# open a file and read the contents\n",
    "file = open(file='textfile.txt', mode='r')\n",
    "text = file.readlines()\n",
    "text  # remember if our last line is a variable, jupyter notebook will print out that variable"
   ]
  },
  {
   "cell_type": "code",
   "execution_count": 210,
   "metadata": {},
   "outputs": [
    {
     "data": {
      "text/plain": [
       "<_io.TextIOWrapper name='textfile.txt' mode='r' encoding='UTF-8'>"
      ]
     },
     "execution_count": 210,
     "metadata": {},
     "output_type": "execute_result"
    }
   ],
   "source": [
    "# this is the file object\n",
    "file"
   ]
  },
  {
   "cell_type": "code",
   "execution_count": 211,
   "metadata": {},
   "outputs": [],
   "source": [
    "# the file is 'open' until we close it.\n",
    "file.close()"
   ]
  },
  {
   "cell_type": "code",
   "execution_count": 212,
   "metadata": {},
   "outputs": [
    {
     "data": {
      "text/plain": [
       "['This is a text file.\\n', 'Now you can read it!']"
      ]
     },
     "execution_count": 212,
     "metadata": {},
     "output_type": "execute_result"
    }
   ],
   "source": [
    "# the 'with' context will automatically close the file once we are out of the 'with' section\n",
    "with open(file='textfile.txt', mode='r') as f:\n",
    "    text = f.readlines()\n",
    "\n",
    "text"
   ]
  },
  {
   "cell_type": "code",
   "execution_count": 213,
   "metadata": {},
   "outputs": [
    {
     "name": "stdout",
     "output_type": "stream",
     "text": [
      "This is a text file.\n",
      "Now you can read it!\n"
     ]
    }
   ],
   "source": [
    "# the read function reads the entire file at once\n",
    "with open(file='textfile.txt', mode='r') as f:\n",
    "    text = f.read()\n",
    "\n",
    "print(text)"
   ]
  },
  {
   "cell_type": "code",
   "execution_count": 214,
   "metadata": {},
   "outputs": [
    {
     "data": {
      "text/plain": [
       "'This is a '"
      ]
     },
     "execution_count": 214,
     "metadata": {},
     "output_type": "execute_result"
    }
   ],
   "source": [
    "# remember we can take a subset of strings like this\n",
    "text[:10]"
   ]
  },
  {
   "cell_type": "code",
   "execution_count": 215,
   "metadata": {},
   "outputs": [],
   "source": [
    "# writing to a file\n",
    "# open the file in a text editor to see the results, or read it with Python\n",
    "with open(file='writetest.txt', mode='w') as f:\n",
    "    f.write('testing writing out')"
   ]
  },
  {
   "cell_type": "code",
   "execution_count": 216,
   "metadata": {},
   "outputs": [],
   "source": [
    "# writing a list of text to a file\n",
    "# open the file in a text editor or read it through Python to see the results\n",
    "text_lines = ['This is text for testing writing.', 'Now you can write to a file!']\n",
    "with open(file='writetest2.txt', mode='w') as f:\n",
    "    f.writelines(text_lines)"
   ]
  },
  {
   "cell_type": "markdown",
   "metadata": {},
   "source": [
    "## JSON"
   ]
  },
  {
   "cell_type": "code",
   "execution_count": 217,
   "metadata": {},
   "outputs": [],
   "source": [
    "import json\n",
    "data_dictionary = {'books': 12, 'articles': 100, 'subjects': ['math', 'programming', 'data science']}"
   ]
  },
  {
   "cell_type": "code",
   "execution_count": 218,
   "metadata": {},
   "outputs": [
    {
     "data": {
      "text/plain": [
       "'{\"books\": 12, \"articles\": 100, \"subjects\": [\"math\", \"programming\", \"data science\"]}'"
      ]
     },
     "execution_count": 218,
     "metadata": {},
     "output_type": "execute_result"
    }
   ],
   "source": [
    "json_string = json.dumps(data_dictionary)\n",
    "json_string"
   ]
  },
  {
   "cell_type": "code",
   "execution_count": 219,
   "metadata": {},
   "outputs": [
    {
     "data": {
      "text/plain": [
       "{'books': 12,\n",
       " 'articles': 100,\n",
       " 'subjects': ['math', 'programming', 'data science']}"
      ]
     },
     "execution_count": 219,
     "metadata": {},
     "output_type": "execute_result"
    }
   ],
   "source": [
    "data_dict = json.loads(json_string)\n",
    "data_dict"
   ]
  },
  {
   "cell_type": "code",
   "execution_count": 220,
   "metadata": {},
   "outputs": [],
   "source": [
    "with open('reading.json', 'w') as f:\n",
    "    json.dump(data_dictionary, f)"
   ]
  },
  {
   "cell_type": "code",
   "execution_count": 221,
   "metadata": {},
   "outputs": [],
   "source": [
    "with open('reading.json') as f:\n",
    "    loaded_data = json.load(f)"
   ]
  },
  {
   "cell_type": "code",
   "execution_count": 222,
   "metadata": {},
   "outputs": [
    {
     "data": {
      "text/plain": [
       "{'books': 12,\n",
       " 'articles': 100,\n",
       " 'subjects': ['math', 'programming', 'data science']}"
      ]
     },
     "execution_count": 222,
     "metadata": {},
     "output_type": "execute_result"
    }
   ],
   "source": [
    "loaded_data"
   ]
  },
  {
   "cell_type": "markdown",
   "metadata": {},
   "source": [
    "## Credentials in a .py file"
   ]
  },
  {
   "cell_type": "code",
   "execution_count": 223,
   "metadata": {},
   "outputs": [
    {
     "name": "stdout",
     "output_type": "stream",
     "text": [
      "username: datasci\n",
      "password: iscool\n"
     ]
    }
   ],
   "source": [
    "import credentials as creds\n",
    "print(f'username: {creds.username}\\npassword: {creds.password}')"
   ]
  },
  {
   "cell_type": "markdown",
   "metadata": {},
   "source": [
    "## The pickle library\n",
    "pickle can be used for saving and loading raw Python objects."
   ]
  },
  {
   "cell_type": "code",
   "execution_count": 224,
   "metadata": {},
   "outputs": [],
   "source": [
    "import pickle as pk\n",
    "\n",
    "data_dictionary = {'books': 12, 'articles': 100, 'subjects': ['math', 'programming', 'data science']}\n",
    "\n",
    "with open('readings.pk', 'wb') as f:\n",
    "    pk.dump(data_dictionary, f)"
   ]
  },
  {
   "cell_type": "code",
   "execution_count": 225,
   "metadata": {},
   "outputs": [
    {
     "name": "stdout",
     "output_type": "stream",
     "text": [
      "{'books': 12, 'articles': 100, 'subjects': ['math', 'programming', 'data science']}\n"
     ]
    }
   ],
   "source": [
    "with open('readings.pk', 'rb') as f:\n",
    "    data = pk.load(f)\n",
    "\n",
    "print(data)"
   ]
  },
  {
   "cell_type": "markdown",
   "metadata": {},
   "source": [
    "## The joblib library\n",
    "We can also save and load data with joblib. First be sure to install it with `conda install -c conda-forge joblib -y` if you don't already have it installed. Joblib has extra features beyond pickle, such as compression, automatic opening and closing of files, and features to make saving/loading specific data (numpy arrays) faster. Pickle is often faster than joblib, except in special situations (which is why we didn't cover it in the book). This extra section is for your extra knowledge."
   ]
  },
  {
   "cell_type": "code",
   "execution_count": 226,
   "metadata": {},
   "outputs": [
    {
     "data": {
      "text/plain": [
       "['readings.job']"
      ]
     },
     "execution_count": 226,
     "metadata": {},
     "output_type": "execute_result"
    }
   ],
   "source": [
    "import joblib\n",
    "\n",
    "joblib.dump(value=data_dictionary, filename='readings.job', compress=True)"
   ]
  },
  {
   "cell_type": "code",
   "execution_count": 227,
   "metadata": {},
   "outputs": [
    {
     "data": {
      "text/plain": [
       "{'books': 12,\n",
       " 'articles': 100,\n",
       " 'subjects': ['math', 'programming', 'data science']}"
      ]
     },
     "execution_count": 227,
     "metadata": {},
     "output_type": "execute_result"
    }
   ],
   "source": [
    "data = joblib.load(filename='readings.job')\n",
    "data"
   ]
  },
  {
   "cell_type": "markdown",
   "metadata": {},
   "source": [
    "We can time how long something takes with the magic command `%%timeit` in Jupyter Notebooks. Note that pickle is faster for saving and reading this dictionary."
   ]
  },
  {
   "cell_type": "code",
   "execution_count": 228,
   "metadata": {},
   "outputs": [
    {
     "name": "stdout",
     "output_type": "stream",
     "text": [
      "148 μs ± 10 μs per loop (mean ± std. dev. of 7 runs, 10,000 loops each)\n"
     ]
    }
   ],
   "source": [
    "%%timeit\n",
    "joblib.dump(value=data_dictionary, filename='readings.job', compress=True)"
   ]
  },
  {
   "cell_type": "code",
   "execution_count": 229,
   "metadata": {},
   "outputs": [
    {
     "name": "stdout",
     "output_type": "stream",
     "text": [
      "51.7 μs ± 5.97 μs per loop (mean ± std. dev. of 7 runs, 10,000 loops each)\n"
     ]
    }
   ],
   "source": [
    "%%timeit\n",
    "with open('readings.pk', 'wb') as f:\n",
    "    pk.dump(data_dictionary, f)"
   ]
  },
  {
   "cell_type": "code",
   "execution_count": 230,
   "metadata": {},
   "outputs": [
    {
     "name": "stdout",
     "output_type": "stream",
     "text": [
      "57.8 μs ± 4 μs per loop (mean ± std. dev. of 7 runs, 10,000 loops each)\n"
     ]
    }
   ],
   "source": [
    "%%timeit\n",
    "data = joblib.load(filename='readings.job')"
   ]
  },
  {
   "cell_type": "code",
   "execution_count": 231,
   "metadata": {},
   "outputs": [
    {
     "name": "stdout",
     "output_type": "stream",
     "text": [
      "10.3 μs ± 859 ns per loop (mean ± std. dev. of 7 runs, 10,000 loops each)\n"
     ]
    }
   ],
   "source": [
    "%%timeit\n",
    "with open('readings.pk', 'rb') as f:\n",
    "    data = pk.load(f)"
   ]
  },
  {
   "cell_type": "markdown",
   "metadata": {},
   "source": [
    "We can see that for normal dictionaries, pickle is much faster for saving and loading than joblib."
   ]
  },
  {
   "cell_type": "markdown",
   "metadata": {},
   "source": [
    "## sqlite3"
   ]
  },
  {
   "cell_type": "markdown",
   "metadata": {},
   "source": [
    "When we install Python, we also install SQLite3. We can use it from within Python, but also from the command line. If we open a terminal and type `sqlite3`, it takes us to the SQLite shell. From the shell, we can run any SQLite command. For example, if we are in the directory with the chinook.db file from this GitHub repo (within the same folder that contains this notebook), we can type `.open chinook.db` to load the database. Then we can see the tables within the database with `.tables`. We can also connect to the database through Python and run commands as show below."
   ]
  },
  {
   "cell_type": "code",
   "execution_count": 232,
   "metadata": {},
   "outputs": [],
   "source": [
    "import sqlite3\n",
    "connection = sqlite3.connect('chinook.db')\n",
    "cursor = connection.cursor()"
   ]
  },
  {
   "cell_type": "code",
   "execution_count": 233,
   "metadata": {},
   "outputs": [
    {
     "data": {
      "text/plain": [
       "[('albums',),\n",
       " ('sqlite_sequence',),\n",
       " ('artists',),\n",
       " ('customers',),\n",
       " ('employees',),\n",
       " ('genres',),\n",
       " ('invoices',),\n",
       " ('invoice_items',),\n",
       " ('media_types',),\n",
       " ('playlists',),\n",
       " ('playlist_track',),\n",
       " ('tracks',),\n",
       " ('sqlite_stat1',)]"
      ]
     },
     "execution_count": 233,
     "metadata": {},
     "output_type": "execute_result"
    }
   ],
   "source": [
    "# list out tables -- .table does not work from Python sqlite3\n",
    "cursor.execute(\"SELECT name FROM sqlite_master WHERE type='table';\")\n",
    "cursor.fetchall()"
   ]
  },
  {
   "cell_type": "code",
   "execution_count": 234,
   "metadata": {},
   "outputs": [
    {
     "data": {
      "text/plain": [
       "[(0, 'ArtistId', 'INTEGER', 1, None, 1),\n",
       " (1, 'Name', 'NVARCHAR(120)', 0, None, 0)]"
      ]
     },
     "execution_count": 234,
     "metadata": {},
     "output_type": "execute_result"
    }
   ],
   "source": [
    "# get table information (column names, types, settings)\n",
    "cursor.execute('PRAGMA table_info(artists);')\n",
    "cursor.fetchall()"
   ]
  },
  {
   "cell_type": "code",
   "execution_count": 235,
   "metadata": {},
   "outputs": [
    {
     "data": {
      "text/plain": [
       "[(1, 'AC/DC'),\n",
       " (2, 'Accept'),\n",
       " (3, 'Aerosmith'),\n",
       " (4, 'Alanis Morissette'),\n",
       " (5, 'Alice In Chains')]"
      ]
     },
     "execution_count": 235,
     "metadata": {},
     "output_type": "execute_result"
    }
   ],
   "source": [
    "# SELECT the first 5 rows of artists\n",
    "cursor.execute('SELECT * FROM artists LIMIT 5;')\n",
    "cursor.fetchall()"
   ]
  },
  {
   "cell_type": "code",
   "execution_count": 236,
   "metadata": {},
   "outputs": [
    {
     "data": {
      "text/plain": [
       "[(1, 'AC/DC'),\n",
       " (2, 'Accept'),\n",
       " (3, 'Aerosmith'),\n",
       " (4, 'Alanis Morissette'),\n",
       " (5, 'Alice In Chains')]"
      ]
     },
     "execution_count": 236,
     "metadata": {},
     "output_type": "execute_result"
    }
   ],
   "source": [
    "# especially for longer queries, it helps to format them like this, with each SQL command on a separate line\n",
    "query = \"\"\"\n",
    "SELECT *\n",
    "FROM artists\n",
    "LIMIT 5;\n",
    "\"\"\"\n",
    "cursor.execute(query)\n",
    "cursor.fetchall()"
   ]
  },
  {
   "cell_type": "code",
   "execution_count": 237,
   "metadata": {},
   "outputs": [
    {
     "data": {
      "text/plain": [
       "[(0, 'InvoiceId', 'INTEGER', 1, None, 1),\n",
       " (1, 'CustomerId', 'INTEGER', 1, None, 0),\n",
       " (2, 'InvoiceDate', 'DATETIME', 1, None, 0),\n",
       " (3, 'BillingAddress', 'NVARCHAR(70)', 0, None, 0),\n",
       " (4, 'BillingCity', 'NVARCHAR(40)', 0, None, 0),\n",
       " (5, 'BillingState', 'NVARCHAR(40)', 0, None, 0),\n",
       " (6, 'BillingCountry', 'NVARCHAR(40)', 0, None, 0),\n",
       " (7, 'BillingPostalCode', 'NVARCHAR(10)', 0, None, 0),\n",
       " (8, 'Total', 'NUMERIC(10,2)', 1, None, 0)]"
      ]
     },
     "execution_count": 237,
     "metadata": {},
     "output_type": "execute_result"
    }
   ],
   "source": [
    "# get table information (column names, types, settings)\n",
    "cursor.execute('PRAGMA table_info(invoices);')\n",
    "cursor.fetchall()"
   ]
  },
  {
   "cell_type": "code",
   "execution_count": 238,
   "metadata": {},
   "outputs": [],
   "source": [
    "# save table column names in a list\n",
    "cursor.execute('PRAGMA table_info(invoices);')\n",
    "results = cursor.fetchall()\n",
    "column_names = [r[1] for r in results]"
   ]
  },
  {
   "cell_type": "code",
   "execution_count": 239,
   "metadata": {},
   "outputs": [
    {
     "data": {
      "text/plain": [
       "['InvoiceId',\n",
       " 'CustomerId',\n",
       " 'InvoiceDate',\n",
       " 'BillingAddress',\n",
       " 'BillingCity',\n",
       " 'BillingState',\n",
       " 'BillingCountry',\n",
       " 'BillingPostalCode',\n",
       " 'Total']"
      ]
     },
     "execution_count": 239,
     "metadata": {},
     "output_type": "execute_result"
    }
   ],
   "source": [
    "column_names"
   ]
  },
  {
   "cell_type": "code",
   "execution_count": 240,
   "metadata": {},
   "outputs": [
    {
     "data": {
      "text/plain": [
       "[(1,\n",
       "  2,\n",
       "  '2009-01-01 00:00:00',\n",
       "  'Theodor-Heuss-Straße 34',\n",
       "  'Stuttgart',\n",
       "  None,\n",
       "  'Germany',\n",
       "  '70174',\n",
       "  1.98),\n",
       " (2,\n",
       "  4,\n",
       "  '2009-01-02 00:00:00',\n",
       "  'Ullevålsveien 14',\n",
       "  'Oslo',\n",
       "  None,\n",
       "  'Norway',\n",
       "  '0171',\n",
       "  3.96),\n",
       " (3,\n",
       "  8,\n",
       "  '2009-01-03 00:00:00',\n",
       "  'Grétrystraat 63',\n",
       "  'Brussels',\n",
       "  None,\n",
       "  'Belgium',\n",
       "  '1000',\n",
       "  5.94),\n",
       " (4,\n",
       "  14,\n",
       "  '2009-01-06 00:00:00',\n",
       "  '8210 111 ST NW',\n",
       "  'Edmonton',\n",
       "  'AB',\n",
       "  'Canada',\n",
       "  'T6G 2C7',\n",
       "  8.91),\n",
       " (5,\n",
       "  23,\n",
       "  '2009-01-11 00:00:00',\n",
       "  '69 Salem Street',\n",
       "  'Boston',\n",
       "  'MA',\n",
       "  'USA',\n",
       "  '2113',\n",
       "  13.86)]"
      ]
     },
     "execution_count": 240,
     "metadata": {},
     "output_type": "execute_result"
    }
   ],
   "source": [
    "cursor.execute('SELECT * FROM invoices LIMIT 5;')\n",
    "cursor.fetchall()"
   ]
  },
  {
   "cell_type": "code",
   "execution_count": 241,
   "metadata": {},
   "outputs": [
    {
     "data": {
      "text/plain": [
       "[(25.86, '2013-11-13 00:00:00'),\n",
       " (23.86, '2012-08-05 00:00:00'),\n",
       " (21.86, '2010-02-18 00:00:00'),\n",
       " (21.86, '2011-04-28 00:00:00'),\n",
       " (18.86, '2010-01-18 00:00:00')]"
      ]
     },
     "execution_count": 241,
     "metadata": {},
     "output_type": "execute_result"
    }
   ],
   "source": [
    "# ORDER BY\n",
    "cursor.execute('SELECT Total, InvoiceDate from invoices ORDER BY Total DESC LIMIT 5;')\n",
    "cursor.fetchall()"
   ]
  },
  {
   "cell_type": "code",
   "execution_count": 242,
   "metadata": {},
   "outputs": [
    {
     "data": {
      "text/plain": [
       "[(8.91, 'Canada'),\n",
       " (8.91, 'Canada'),\n",
       " (0.99, 'Canada'),\n",
       " (1.98, 'Canada'),\n",
       " (13.86, 'Canada')]"
      ]
     },
     "execution_count": 242,
     "metadata": {},
     "output_type": "execute_result"
    }
   ],
   "source": [
    "# WHERE statement\n",
    "cursor.execute('SELECT Total, BillingCountry from invoices WHERE BillingCountry == \"Canada\" LIMIT 5;')\n",
    "cursor.fetchall()"
   ]
  },
  {
   "cell_type": "code",
   "execution_count": 243,
   "metadata": {},
   "outputs": [
    {
     "data": {
      "text/plain": [
       "[(8.91, 'Canada'),\n",
       " (8.91, 'Canada'),\n",
       " (0.99, 'Canada'),\n",
       " (1.98, 'Canada'),\n",
       " (13.86, 'Canada')]"
      ]
     },
     "execution_count": 243,
     "metadata": {},
     "output_type": "execute_result"
    }
   ],
   "source": [
    "# WHERE using an inserted argument\n",
    "cursor.execute('SELECT Total, BillingCountry from invoices WHERE BillingCountry == ? LIMIT 5;', ('Canada',))\n",
    "cursor.fetchall()"
   ]
  },
  {
   "cell_type": "code",
   "execution_count": 244,
   "metadata": {},
   "outputs": [
    {
     "data": {
      "text/plain": [
       "[(8.91, 'Canada'),\n",
       " (8.91, 'Canada'),\n",
       " (0.99, 'Canada'),\n",
       " (1.98, 'Canada'),\n",
       " (13.86, 'Canada')]"
      ]
     },
     "execution_count": 244,
     "metadata": {},
     "output_type": "execute_result"
    }
   ],
   "source": [
    "# LIKE command\n",
    "cursor.execute('SELECT Total, BillingCountry from invoices WHERE BillingCountry LIKE \"%can%\" LIMIT 5;')\n",
    "cursor.fetchall()"
   ]
  },
  {
   "cell_type": "code",
   "execution_count": 245,
   "metadata": {},
   "outputs": [
    {
     "data": {
      "text/plain": [
       "[(523.0600000000003, 'USA'),\n",
       " (303.9599999999999, 'Canada'),\n",
       " (195.09999999999994, 'France'),\n",
       " (190.09999999999997, 'Brazil'),\n",
       " (156.48, 'Germany')]"
      ]
     },
     "execution_count": 245,
     "metadata": {},
     "output_type": "execute_result"
    }
   ],
   "source": [
    "# GROUP BY statement\n",
    "cursor.execute('SELECT SUM(Total), BillingCountry from invoices GROUP BY BillingCountry ORDER BY SUM(Total) DESC LIMIT 5;')\n",
    "cursor.fetchall()"
   ]
  },
  {
   "cell_type": "code",
   "execution_count": 246,
   "metadata": {},
   "outputs": [
    {
     "data": {
      "text/plain": [
       "[(0, 'InvoiceLineId', 'INTEGER', 1, None, 1),\n",
       " (1, 'InvoiceId', 'INTEGER', 1, None, 0),\n",
       " (2, 'TrackId', 'INTEGER', 1, None, 0),\n",
       " (3, 'UnitPrice', 'NUMERIC(10,2)', 1, None, 0),\n",
       " (4, 'Quantity', 'INTEGER', 1, None, 0)]"
      ]
     },
     "execution_count": 246,
     "metadata": {},
     "output_type": "execute_result"
    }
   ],
   "source": [
    "# examine column names for invoice_items table\n",
    "cursor.execute('PRAGMA table_info(invoice_items);')\n",
    "cursor.fetchall()"
   ]
  },
  {
   "cell_type": "code",
   "execution_count": 247,
   "metadata": {},
   "outputs": [
    {
     "data": {
      "text/plain": [
       "[(1, 1, 2, 0.99, 1),\n",
       " (2, 1, 4, 0.99, 1),\n",
       " (3, 2, 6, 0.99, 1),\n",
       " (4, 2, 8, 0.99, 1),\n",
       " (5, 2, 10, 0.99, 1)]"
      ]
     },
     "execution_count": 247,
     "metadata": {},
     "output_type": "execute_result"
    }
   ],
   "source": [
    "# examine a sample of the data\n",
    "cursor.execute('SELECT * FROM invoice_items LIMIT 5;')\n",
    "cursor.fetchall()"
   ]
  },
  {
   "cell_type": "code",
   "execution_count": 248,
   "metadata": {},
   "outputs": [
    {
     "data": {
      "text/plain": [
       "[(2, 0.99), (4, 0.99), (6, 0.99), (8, 0.99), (10, 0.99)]"
      ]
     },
     "execution_count": 248,
     "metadata": {},
     "output_type": "execute_result"
    }
   ],
   "source": [
    "# aliases can be used to rename columns and tables\n",
    "# according to some SQL style guides, it's not best practice to alias a table\n",
    "cursor.execute('SELECT i.TrackID as tid, i.UnitPrice as up FROM invoice_items as i LIMIT 5;')\n",
    "cursor.fetchall()"
   ]
  },
  {
   "cell_type": "code",
   "execution_count": 249,
   "metadata": {},
   "outputs": [
    {
     "data": {
      "text/plain": [
       "[(0.99,), (1.99,)]"
      ]
     },
     "execution_count": 249,
     "metadata": {},
     "output_type": "execute_result"
    }
   ],
   "source": [
    "# DISTINCT\n",
    "cursor.execute('SELECT DISTINCT UnitPrice FROM invoice_items;')\n",
    "cursor.fetchall()"
   ]
  },
  {
   "cell_type": "code",
   "execution_count": 250,
   "metadata": {},
   "outputs": [
    {
     "data": {
      "text/plain": [
       "[('Germany', 2), ('Germany', 4), ('Norway', 6), ('Norway', 8), ('Norway', 10)]"
      ]
     },
     "execution_count": 250,
     "metadata": {},
     "output_type": "execute_result"
    }
   ],
   "source": [
    "# JOIN\n",
    "# get tracks that were purchased and combine with the country\n",
    "query = \"\"\"\n",
    "SELECT invoices.BillingCountry, invoice_items.TrackId\n",
    "FROM invoices\n",
    "JOIN invoice_items\n",
    "ON invoices.InvoiceId = invoice_items.InvoiceId\n",
    "LIMIT 5;\n",
    "\"\"\"\n",
    "cursor.execute(query)\n",
    "cursor.fetchall()"
   ]
  },
  {
   "cell_type": "code",
   "execution_count": 251,
   "metadata": {},
   "outputs": [
    {
     "data": {
      "text/plain": [
       "[(99, 494, 'USA'),\n",
       " (42, 304, 'Canada'),\n",
       " (234, 190, 'France'),\n",
       " (738, 190, 'Brazil'),\n",
       " (2, 152, 'Germany')]"
      ]
     },
     "execution_count": 251,
     "metadata": {},
     "output_type": "execute_result"
    }
   ],
   "source": [
    "# get number of purchased tracks for each track by country, sorted by the top-most purchased\n",
    "query = \"\"\"\n",
    "SELECT invoice_items.TrackId, COUNT(invoice_items.TrackId), invoices.BillingCountry\n",
    "FROM invoices\n",
    "JOIN invoice_items\n",
    "ON invoices.InvoiceId = invoice_items.InvoiceId\n",
    "GROUP BY invoices.BillingCountry\n",
    "ORDER BY COUNT(invoice_items.TrackId) DESC\n",
    "LIMIT 5;\n",
    "\"\"\"\n",
    "cursor.execute(query)\n",
    "cursor.fetchall()"
   ]
  },
  {
   "cell_type": "code",
   "execution_count": 252,
   "metadata": {},
   "outputs": [
    {
     "data": {
      "text/plain": [
       "[('Your Time Has Come', 494, 'USA'),\n",
       " ('Right Through You', 304, 'Canada'),\n",
       " ('Morena De Angola', 190, 'France'),\n",
       " ('Admirável Gado Novo', 190, 'Brazil'),\n",
       " ('Balls to the Wall', 152, 'Germany')]"
      ]
     },
     "execution_count": 252,
     "metadata": {},
     "output_type": "execute_result"
    }
   ],
   "source": [
    "# multiple JOINs\n",
    "query = \"\"\"\n",
    "SELECT tracks.Name, COUNT(invoice_items.TrackId), invoices.BillingCountry\n",
    "FROM invoices\n",
    "JOIN invoice_items\n",
    "ON invoices.InvoiceId = invoice_items.InvoiceId\n",
    "JOIN tracks\n",
    "ON tracks.TrackId = invoice_items.TrackId\n",
    "GROUP BY invoices.BillingCountry\n",
    "ORDER BY COUNT(invoice_items.TrackId) DESC\n",
    "LIMIT 5;\n",
    "\"\"\"\n",
    "cursor.execute(query)\n",
    "cursor.fetchall()"
   ]
  },
  {
   "cell_type": "code",
   "execution_count": 253,
   "metadata": {},
   "outputs": [
    {
     "data": {
      "text/plain": [
       "[('Your Time Has Come', 494, 'USA'),\n",
       " ('Right Through You', 304, 'Canada'),\n",
       " ('Admirável Gado Novo', 190, 'Brazil'),\n",
       " ('Morena De Angola', 190, 'France'),\n",
       " ('Balls to the Wall', 152, 'Germany')]"
      ]
     },
     "execution_count": 253,
     "metadata": {},
     "output_type": "execute_result"
    }
   ],
   "source": [
    "# this same command as above can also be done with a subquery like this, but is easier with multiple joins\n",
    "query = \"\"\"\n",
    "SELECT tracks.Name, invoice_merged.track_count, invoice_merged.BillingCountry\n",
    "FROM\n",
    "    (SELECT ii.TrackId, COUNT(ii.TrackId) as track_count, i.BillingCountry\n",
    "    FROM invoices as i\n",
    "    JOIN invoice_items as ii\n",
    "    ON i.InvoiceId = ii.InvoiceId\n",
    "    GROUP BY BillingCountry) as invoice_merged\n",
    "JOIN tracks\n",
    "ON tracks.TrackId = invoice_merged.TrackId\n",
    "ORDER BY track_count DESC\n",
    "LIMIT 5;\n",
    "\"\"\"\n",
    "cursor.execute(query)\n",
    "cursor.fetchall()"
   ]
  },
  {
   "cell_type": "code",
   "execution_count": 254,
   "metadata": {},
   "outputs": [],
   "source": [
    "# be sure to close the connection when done\n",
    "connection.close()"
   ]
  },
  {
   "cell_type": "markdown",
   "metadata": {},
   "source": [
    "### Storing data in a sqlite3 database"
   ]
  },
  {
   "cell_type": "code",
   "execution_count": 255,
   "metadata": {},
   "outputs": [],
   "source": [
    "# hypothetical book sales data\n",
    "book_data = [('12-1-2020', 'Practical Data Science With Python', 19.99, 1),\n",
    "       ('12-15-2020', 'Python Machine Learning', 27.99, 1),\n",
    "       ('12-17-2020', 'Machine Learning For Algorithmic Trading', 34.99, 1)]"
   ]
  },
  {
   "cell_type": "code",
   "execution_count": 256,
   "metadata": {},
   "outputs": [],
   "source": [
    "# CREATE and INSERT\n",
    "connection = sqlite3.connect('book_sales.db')\n",
    "cursor = connection.cursor()"
   ]
  },
  {
   "cell_type": "code",
   "execution_count": 257,
   "metadata": {},
   "outputs": [
    {
     "data": {
      "text/plain": [
       "<sqlite3.Cursor at 0x7fceb20c5740>"
      ]
     },
     "execution_count": 257,
     "metadata": {},
     "output_type": "execute_result"
    }
   ],
   "source": [
    "# Create table\n",
    "cursor.execute('''CREATE TABLE IF NOT EXISTS book_sales\n",
    "             (date text, book_title text, price real, quantity real)''')"
   ]
  },
  {
   "cell_type": "code",
   "execution_count": 258,
   "metadata": {},
   "outputs": [
    {
     "data": {
      "text/plain": [
       "[('book_sales',)]"
      ]
     },
     "execution_count": 258,
     "metadata": {},
     "output_type": "execute_result"
    }
   ],
   "source": [
    "# the table is now there\n",
    "cursor.execute(\"SELECT name FROM sqlite_master WHERE type='table';\")\n",
    "cursor.fetchall()"
   ]
  },
  {
   "cell_type": "code",
   "execution_count": 259,
   "metadata": {},
   "outputs": [
    {
     "data": {
      "text/plain": [
       "<sqlite3.Cursor at 0x7fceb20c5740>"
      ]
     },
     "execution_count": 259,
     "metadata": {},
     "output_type": "execute_result"
    }
   ],
   "source": [
    "# Insert a row of data\n",
    "cursor.execute(\"INSERT INTO book_sales VALUES (?, ?, ?, ?)\", book_data[0])"
   ]
  },
  {
   "cell_type": "code",
   "execution_count": 260,
   "metadata": {},
   "outputs": [
    {
     "data": {
      "text/plain": [
       "[('12-1-2020', 'Practical Data Science With Python', 19.99, 1.0),\n",
       " ('12-15-2020', 'Python Machine Learning', 27.99, 1.0),\n",
       " ('12-17-2020', 'Machine Learning For Algorithmic Trading', 34.99, 1.0),\n",
       " (None, 'machine learining', 10.99, None),\n",
       " ('12-1-2020', 'Practical Data Science With Python', 19.99, 1.0),\n",
       " ('12-15-2020', 'Python Machine Learning', 27.99, 1.0),\n",
       " ('12-17-2020', 'Machine Learning For Algorithmic Trading', 34.99, 1.0),\n",
       " ('12-1-2020', 'Practical Data Science With Python', 19.99, 1.0),\n",
       " ('12-15-2020', 'Python Machine Learning', 27.99, 1.0),\n",
       " ('12-17-2020', 'Machine Learning For Algorithmic Trading', 34.99, 1.0),\n",
       " ('12-1-2020', 'Practical Data Science With Python', 19.99, 1.0),\n",
       " ('12-15-2020', 'Python Machine Learning', 27.99, 1.0),\n",
       " ('12-17-2020', 'Machine Learning For Algorithmic Trading', 34.99, 1.0),\n",
       " ('12-1-2020', 'Practical Data Science With Python', 19.99, 1.0)]"
      ]
     },
     "execution_count": 260,
     "metadata": {},
     "output_type": "execute_result"
    }
   ],
   "source": [
    "cursor.execute('SELECT * FROM book_sales ;')\n",
    "cursor.fetchall()"
   ]
  },
  {
   "cell_type": "code",
   "execution_count": 261,
   "metadata": {},
   "outputs": [],
   "source": [
    "# Save the changes with .commit()\n",
    "# Without this line, the inserted data will not be saved in the database after we close the connection\n",
    "connection.commit()"
   ]
  },
  {
   "cell_type": "code",
   "execution_count": 262,
   "metadata": {},
   "outputs": [],
   "source": [
    "# insert several records at a time\n",
    "cursor.executemany('INSERT INTO book_sales VALUES (?, ?, ?, ?)', book_data[1:])\n",
    "# don't forget to save the changes\n",
    "connection.commit()"
   ]
  },
  {
   "cell_type": "code",
   "execution_count": 263,
   "metadata": {},
   "outputs": [
    {
     "data": {
      "text/plain": [
       "[('12-1-2020', 'Practical Data Science With Python', 19.99, 1.0),\n",
       " ('12-15-2020', 'Python Machine Learning', 27.99, 1.0),\n",
       " ('12-17-2020', 'Machine Learning For Algorithmic Trading', 34.99, 1.0),\n",
       " (None, 'machine learining', 10.99, None),\n",
       " ('12-1-2020', 'Practical Data Science With Python', 19.99, 1.0),\n",
       " ('12-15-2020', 'Python Machine Learning', 27.99, 1.0),\n",
       " ('12-17-2020', 'Machine Learning For Algorithmic Trading', 34.99, 1.0),\n",
       " ('12-1-2020', 'Practical Data Science With Python', 19.99, 1.0),\n",
       " ('12-15-2020', 'Python Machine Learning', 27.99, 1.0),\n",
       " ('12-17-2020', 'Machine Learning For Algorithmic Trading', 34.99, 1.0),\n",
       " ('12-1-2020', 'Practical Data Science With Python', 19.99, 1.0),\n",
       " ('12-15-2020', 'Python Machine Learning', 27.99, 1.0),\n",
       " ('12-17-2020', 'Machine Learning For Algorithmic Trading', 34.99, 1.0),\n",
       " ('12-1-2020', 'Practical Data Science With Python', 19.99, 1.0),\n",
       " ('12-15-2020', 'Python Machine Learning', 27.99, 1.0),\n",
       " ('12-17-2020', 'Machine Learning For Algorithmic Trading', 34.99, 1.0)]"
      ]
     },
     "execution_count": 263,
     "metadata": {},
     "output_type": "execute_result"
    }
   ],
   "source": [
    "cursor.execute('SELECT * FROM book_sales;')\n",
    "cursor.fetchall()"
   ]
  },
  {
   "cell_type": "code",
   "execution_count": 264,
   "metadata": {},
   "outputs": [],
   "source": [
    "connection.close()"
   ]
  },
  {
   "cell_type": "markdown",
   "metadata": {},
   "source": [
    "## SQLAlchemy"
   ]
  },
  {
   "cell_type": "code",
   "execution_count": 265,
   "metadata": {},
   "outputs": [],
   "source": [
    "from sqlalchemy import create_engine\n",
    "engine = create_engine('sqlite:///book_sales.db')\n",
    "connection = engine.connect()"
   ]
  },
  {
   "cell_type": "code",
   "execution_count": 266,
   "metadata": {},
   "outputs": [
    {
     "data": {
      "text/plain": [
       "<sqlalchemy.engine.cursor.CursorResult at 0x7fceb1e257f0>"
      ]
     },
     "execution_count": 266,
     "metadata": {},
     "output_type": "execute_result"
    }
   ],
   "source": [
    "from sqlalchemy import text\n",
    "result = connection.execute(text(\"select * from book_sales\"))\n",
    "result"
   ]
  },
  {
   "cell_type": "code",
   "execution_count": 267,
   "metadata": {},
   "outputs": [
    {
     "data": {
      "text/plain": [
       "[('12-1-2020', 'Practical Data Science With Python', 19.99, 1.0),\n",
       " ('12-15-2020', 'Python Machine Learning', 27.99, 1.0),\n",
       " ('12-17-2020', 'Machine Learning For Algorithmic Trading', 34.99, 1.0),\n",
       " (None, 'machine learining', 10.99, None),\n",
       " ('12-1-2020', 'Practical Data Science With Python', 19.99, 1.0),\n",
       " ('12-15-2020', 'Python Machine Learning', 27.99, 1.0),\n",
       " ('12-17-2020', 'Machine Learning For Algorithmic Trading', 34.99, 1.0),\n",
       " ('12-1-2020', 'Practical Data Science With Python', 19.99, 1.0),\n",
       " ('12-15-2020', 'Python Machine Learning', 27.99, 1.0),\n",
       " ('12-17-2020', 'Machine Learning For Algorithmic Trading', 34.99, 1.0),\n",
       " ('12-1-2020', 'Practical Data Science With Python', 19.99, 1.0),\n",
       " ('12-15-2020', 'Python Machine Learning', 27.99, 1.0),\n",
       " ('12-17-2020', 'Machine Learning For Algorithmic Trading', 34.99, 1.0),\n",
       " ('12-1-2020', 'Practical Data Science With Python', 19.99, 1.0),\n",
       " ('12-15-2020', 'Python Machine Learning', 27.99, 1.0),\n",
       " ('12-17-2020', 'Machine Learning For Algorithmic Trading', 34.99, 1.0)]"
      ]
     },
     "execution_count": 267,
     "metadata": {},
     "output_type": "execute_result"
    }
   ],
   "source": [
    "list(result)"
   ]
  },
  {
   "cell_type": "code",
   "execution_count": 268,
   "metadata": {},
   "outputs": [],
   "source": [
    "for row in result:\n",
    "    print(row['date'])"
   ]
  },
  {
   "cell_type": "code",
   "execution_count": 269,
   "metadata": {},
   "outputs": [
    {
     "name": "stdout",
     "output_type": "stream",
     "text": [
      "('12-1-2020', 'Practical Data Science With Python', 19.99, 1.0)\n",
      "('12-15-2020', 'Python Machine Learning', 27.99, 1.0)\n",
      "('12-17-2020', 'Machine Learning For Algorithmic Trading', 34.99, 1.0)\n",
      "(None, 'machine learining', 10.99, None)\n",
      "('12-1-2020', 'Practical Data Science With Python', 19.99, 1.0)\n",
      "('12-15-2020', 'Python Machine Learning', 27.99, 1.0)\n",
      "('12-17-2020', 'Machine Learning For Algorithmic Trading', 34.99, 1.0)\n",
      "('12-1-2020', 'Practical Data Science With Python', 19.99, 1.0)\n",
      "('12-15-2020', 'Python Machine Learning', 27.99, 1.0)\n",
      "('12-17-2020', 'Machine Learning For Algorithmic Trading', 34.99, 1.0)\n",
      "('12-1-2020', 'Practical Data Science With Python', 19.99, 1.0)\n",
      "('12-15-2020', 'Python Machine Learning', 27.99, 1.0)\n",
      "('12-17-2020', 'Machine Learning For Algorithmic Trading', 34.99, 1.0)\n",
      "('12-1-2020', 'Practical Data Science With Python', 19.99, 1.0)\n",
      "('12-15-2020', 'Python Machine Learning', 27.99, 1.0)\n",
      "('12-17-2020', 'Machine Learning For Algorithmic Trading', 34.99, 1.0)\n"
     ]
    }
   ],
   "source": [
    "result = connection.execute(text(\"select * from book_sales\"))\n",
    "for row in result:\n",
    "    print(row)"
   ]
  },
  {
   "cell_type": "code",
   "execution_count": 270,
   "metadata": {},
   "outputs": [],
   "source": [
    "# be sure to close the connection when finished\n",
    "connection.close()"
   ]
  },
  {
   "cell_type": "code",
   "execution_count": 271,
   "metadata": {},
   "outputs": [
    {
     "name": "stdout",
     "output_type": "stream",
     "text": [
      "('12-1-2020', 'Practical Data Science With Python', 19.99, 1.0)\n",
      "('12-15-2020', 'Python Machine Learning', 27.99, 1.0)\n",
      "('12-17-2020', 'Machine Learning For Algorithmic Trading', 34.99, 1.0)\n",
      "(None, 'machine learining', 10.99, None)\n",
      "('12-1-2020', 'Practical Data Science With Python', 19.99, 1.0)\n",
      "('12-15-2020', 'Python Machine Learning', 27.99, 1.0)\n",
      "('12-17-2020', 'Machine Learning For Algorithmic Trading', 34.99, 1.0)\n",
      "('12-1-2020', 'Practical Data Science With Python', 19.99, 1.0)\n",
      "('12-15-2020', 'Python Machine Learning', 27.99, 1.0)\n",
      "('12-17-2020', 'Machine Learning For Algorithmic Trading', 34.99, 1.0)\n",
      "('12-1-2020', 'Practical Data Science With Python', 19.99, 1.0)\n",
      "('12-15-2020', 'Python Machine Learning', 27.99, 1.0)\n",
      "('12-17-2020', 'Machine Learning For Algorithmic Trading', 34.99, 1.0)\n",
      "('12-1-2020', 'Practical Data Science With Python', 19.99, 1.0)\n",
      "('12-15-2020', 'Python Machine Learning', 27.99, 1.0)\n",
      "('12-17-2020', 'Machine Learning For Algorithmic Trading', 34.99, 1.0)\n"
     ]
    }
   ],
   "source": [
    "# we can also use the with clause to automatically close the connection\n",
    "with engine.connect() as connection:\n",
    "    result = connection.execute(text(\"select * from book_sales\"))\n",
    "    for row in result:\n",
    "        print(row)"
   ]
  },
  {
   "cell_type": "code",
   "execution_count": 272,
   "metadata": {},
   "outputs": [
    {
     "data": {
      "text/plain": [
       "True"
      ]
     },
     "execution_count": 272,
     "metadata": {},
     "output_type": "execute_result"
    }
   ],
   "source": [
    "connection.closed"
   ]
  },
  {
   "cell_type": "code",
   "execution_count": 274,
   "metadata": {},
   "outputs": [
    {
     "name": "stdout",
     "output_type": "stream",
     "text": [
      "This Connection is closed\n"
     ]
    }
   ],
   "source": [
    "# the connection is closed from the 'with' statement, so we can't use it\n",
    "# notice in the middle and at the bottom of the error, it says 'This Connection is closed'\n",
    "try:\n",
    "    result = connection.execute(text(\"select * from book_sales\"))\n",
    "except Exception as e:\n",
    "    print(e)"
   ]
  },
  {
   "cell_type": "code",
   "execution_count": 275,
   "metadata": {},
   "outputs": [
    {
     "ename": "ArgumentError",
     "evalue": "expected schema argument to be a string, got <class 'sqlalchemy.engine.base.Engine'>.",
     "output_type": "error",
     "traceback": [
      "\u001b[31m---------------------------------------------------------------------------\u001b[39m",
      "\u001b[31mArgumentError\u001b[39m                             Traceback (most recent call last)",
      "\u001b[36mCell\u001b[39m\u001b[36m \u001b[39m\u001b[32mIn[275]\u001b[39m\u001b[32m, line 3\u001b[39m\n\u001b[32m      1\u001b[39m \u001b[38;5;28;01mfrom\u001b[39;00m\u001b[38;5;250m \u001b[39m\u001b[34;01msqlalchemy\u001b[39;00m\u001b[38;5;250m \u001b[39m\u001b[38;5;28;01mimport\u001b[39;00m MetaData, Table\n\u001b[32m----> \u001b[39m\u001b[32m3\u001b[39m metadata = \u001b[43mMetaData\u001b[49m\u001b[43m(\u001b[49m\u001b[43mengine\u001b[49m\u001b[43m)\u001b[49m\n\u001b[32m      4\u001b[39m book_sales = Table(\u001b[33m'\u001b[39m\u001b[33mbook_sales\u001b[39m\u001b[33m'\u001b[39m, metadata, autoload=\u001b[38;5;28;01mTrue\u001b[39;00m)\n\u001b[32m      5\u001b[39m conn = engine.connect()\n",
      "\u001b[36mFile \u001b[39m\u001b[32m~/CS-620/.venv/lib64/python3.13/site-packages/sqlalchemy/sql/schema.py:5537\u001b[39m, in \u001b[36mMetaData.__init__\u001b[39m\u001b[34m(self, schema, quote_schema, naming_convention, info)\u001b[39m\n\u001b[32m   5422\u001b[39m \u001b[38;5;250m\u001b[39m\u001b[33;03m\"\"\"Create a new MetaData object.\u001b[39;00m\n\u001b[32m   5423\u001b[39m \n\u001b[32m   5424\u001b[39m \u001b[33;03m:param schema:\u001b[39;00m\n\u001b[32m   (...)\u001b[39m\u001b[32m   5534\u001b[39m \n\u001b[32m   5535\u001b[39m \u001b[33;03m\"\"\"\u001b[39;00m\n\u001b[32m   5536\u001b[39m \u001b[38;5;28;01mif\u001b[39;00m schema \u001b[38;5;129;01mis\u001b[39;00m \u001b[38;5;129;01mnot\u001b[39;00m \u001b[38;5;28;01mNone\u001b[39;00m \u001b[38;5;129;01mand\u001b[39;00m \u001b[38;5;129;01mnot\u001b[39;00m \u001b[38;5;28misinstance\u001b[39m(schema, \u001b[38;5;28mstr\u001b[39m):\n\u001b[32m-> \u001b[39m\u001b[32m5537\u001b[39m     \u001b[38;5;28;01mraise\u001b[39;00m exc.ArgumentError(\n\u001b[32m   5538\u001b[39m         \u001b[33m\"\u001b[39m\u001b[33mexpected schema argument to be a string, \u001b[39m\u001b[33m\"\u001b[39m\n\u001b[32m   5539\u001b[39m         \u001b[33mf\u001b[39m\u001b[33m\"\u001b[39m\u001b[33mgot \u001b[39m\u001b[38;5;132;01m{\u001b[39;00m\u001b[38;5;28mtype\u001b[39m(schema)\u001b[38;5;132;01m}\u001b[39;00m\u001b[33m.\u001b[39m\u001b[33m\"\u001b[39m\n\u001b[32m   5540\u001b[39m     )\n\u001b[32m   5541\u001b[39m \u001b[38;5;28mself\u001b[39m.tables = util.FacadeDict()\n\u001b[32m   5542\u001b[39m \u001b[38;5;28mself\u001b[39m.schema = quoted_name.construct(schema, quote_schema)\n",
      "\u001b[31mArgumentError\u001b[39m: expected schema argument to be a string, got <class 'sqlalchemy.engine.base.Engine'>."
     ]
    }
   ],
   "source": [
    "from sqlalchemy import MetaData, Table\n",
    "\n",
    "metadata = MetaData(engine)\n",
    "book_sales = Table('book_sales', metadata, autoload=True)\n",
    "conn = engine.connect()"
   ]
  },
  {
   "cell_type": "code",
   "execution_count": 276,
   "metadata": {},
   "outputs": [
    {
     "ename": "NameError",
     "evalue": "name 'conn' is not defined",
     "output_type": "error",
     "traceback": [
      "\u001b[31m---------------------------------------------------------------------------\u001b[39m",
      "\u001b[31mNameError\u001b[39m                                 Traceback (most recent call last)",
      "\u001b[36mCell\u001b[39m\u001b[36m \u001b[39m\u001b[32mIn[276]\u001b[39m\u001b[32m, line 1\u001b[39m\n\u001b[32m----> \u001b[39m\u001b[32m1\u001b[39m res = \u001b[43mconn\u001b[49m.execute(book_sales.select())\n\u001b[32m      2\u001b[39m \u001b[38;5;28;01mfor\u001b[39;00m r \u001b[38;5;129;01min\u001b[39;00m res:\n\u001b[32m      3\u001b[39m     \u001b[38;5;28mprint\u001b[39m(r)\n",
      "\u001b[31mNameError\u001b[39m: name 'conn' is not defined"
     ]
    }
   ],
   "source": [
    "res = conn.execute(book_sales.select())\n",
    "for r in res:\n",
    "    print(r)"
   ]
  },
  {
   "cell_type": "code",
   "execution_count": 277,
   "metadata": {},
   "outputs": [
    {
     "ename": "NameError",
     "evalue": "name 'book_sales' is not defined",
     "output_type": "error",
     "traceback": [
      "\u001b[31m---------------------------------------------------------------------------\u001b[39m",
      "\u001b[31mNameError\u001b[39m                                 Traceback (most recent call last)",
      "\u001b[36mCell\u001b[39m\u001b[36m \u001b[39m\u001b[32mIn[277]\u001b[39m\u001b[32m, line 1\u001b[39m\n\u001b[32m----> \u001b[39m\u001b[32m1\u001b[39m ins = \u001b[43mbook_sales\u001b[49m.insert().values(book_title=\u001b[33m'\u001b[39m\u001b[33mmachine learining\u001b[39m\u001b[33m'\u001b[39m, price=\u001b[33m'\u001b[39m\u001b[33m10.99\u001b[39m\u001b[33m'\u001b[39m)\n\u001b[32m      2\u001b[39m conn.execute(ins)\n",
      "\u001b[31mNameError\u001b[39m: name 'book_sales' is not defined"
     ]
    }
   ],
   "source": [
    "ins = book_sales.insert().values(book_title='machine learining', price='10.99')\n",
    "conn.execute(ins)"
   ]
  },
  {
   "cell_type": "code",
   "execution_count": 278,
   "metadata": {},
   "outputs": [
    {
     "ename": "NameError",
     "evalue": "name 'conn' is not defined",
     "output_type": "error",
     "traceback": [
      "\u001b[31m---------------------------------------------------------------------------\u001b[39m",
      "\u001b[31mNameError\u001b[39m                                 Traceback (most recent call last)",
      "\u001b[36mCell\u001b[39m\u001b[36m \u001b[39m\u001b[32mIn[278]\u001b[39m\u001b[32m, line 1\u001b[39m\n\u001b[32m----> \u001b[39m\u001b[32m1\u001b[39m res = \u001b[43mconn\u001b[49m.execute(book_sales.select())\n\u001b[32m      2\u001b[39m \u001b[38;5;28;01mfor\u001b[39;00m r \u001b[38;5;129;01min\u001b[39;00m res:\n\u001b[32m      3\u001b[39m     \u001b[38;5;28mprint\u001b[39m(r)\n",
      "\u001b[31mNameError\u001b[39m: name 'conn' is not defined"
     ]
    }
   ],
   "source": [
    "res = conn.execute(book_sales.select())\n",
    "for r in res:\n",
    "    print(r)"
   ]
  }
 ],
 "metadata": {
  "kernelspec": {
   "display_name": ".venv",
   "language": "python",
   "name": "python3"
  },
  "language_info": {
   "codemirror_mode": {
    "name": "ipython",
    "version": 3
   },
   "file_extension": ".py",
   "mimetype": "text/x-python",
   "name": "python",
   "nbconvert_exporter": "python",
   "pygments_lexer": "ipython3",
   "version": "3.13.0"
  }
 },
 "nbformat": 4,
 "nbformat_minor": 4
}
